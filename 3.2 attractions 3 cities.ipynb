{
 "cells": [
  {
   "cell_type": "code",
   "execution_count": 1,
   "id": "5176912f-9780-4d34-9898-794146c98d6a",
   "metadata": {},
   "outputs": [],
   "source": [
    "import os\n",
    "import datetime\n",
    "\n",
    "import numpy as np\n",
    "import scipy\n",
    "import fiona\n",
    "import statistics\n",
    "import math\n",
    "\n",
    "import pandas as pd\n",
    "import geopandas as gpd\n",
    "from shapely.geometry import LineString, shape, mapping, Point, Polygon, MultiPolygon\n",
    "from shapely.ops import cascaded_union\n",
    "\n",
    "import matplotlib.pyplot as plt\n",
    "from matplotlib import colors, cm, style\n",
    "import matplotlib.patches as mpatches\n",
    "from descartes import PolygonPatch\n",
    "\n",
    "import osmnx as ox\n",
    "import networkx as nx"
   ]
  },
  {
   "cell_type": "code",
   "execution_count": 2,
   "id": "28a6e9a3-e4a8-41a9-8b61-adbbc96d528e",
   "metadata": {},
   "outputs": [],
   "source": [
    "from my_osm import get_osm_data\n",
    "from my_isochrones import get_isochrones\n",
    "from my_metrics import compute_edge_betweenness"
   ]
  },
  {
   "cell_type": "code",
   "execution_count": 3,
   "id": "04f1fbfc-9964-4d78-a9d9-322587996538",
   "metadata": {},
   "outputs": [],
   "source": [
    "style.use('seaborn-white')\n",
    "output_folder = 'data'\n",
    "osm_crs = 'EPSG:3857'"
   ]
  },
  {
   "cell_type": "markdown",
   "id": "e6041b79-d668-430f-8cd8-aa1b64d3de9c",
   "metadata": {},
   "source": [
    "# Parameters"
   ]
  },
  {
   "cell_type": "code",
   "execution_count": 4,
   "id": "0a77c633-86dc-45f4-918d-da19c8dd2b9b",
   "metadata": {},
   "outputs": [],
   "source": [
    "# Place                                Country              CRS\n",
    "# Amsterdam | Rotterdam | The Hague    (The Netherlands)    EPSG:28992\n",
    "# Madrid    | Barcelona | Valencia     (Spain)              EPSG:25830\n",
    "# Stockholm | Goteborg  | Malmo        (Sweden)             EPSG:3006 ???\n",
    "# Milano                               (Italy)              EPSG:6875 ???\n",
    "# Ljubljana                            (Slovenia)           EPSG:8687 ???\n",
    "\n",
    "place_name = 'Utrecht'"
   ]
  },
  {
   "cell_type": "code",
   "execution_count": 5,
   "id": "ee6f8ea9-d7e7-4d0f-8649-e17575e0b9d8",
   "metadata": {},
   "outputs": [],
   "source": [
    "if place_name == 'Milano':\n",
    "    local_crs = 'EPSG:6875'    \n",
    "elif place_name == 'Ljubljana':\n",
    "    local_crs = 'EPSG:8687'\n",
    "elif place_name == 'Utrecht':\n",
    "    local_crs = 'EPSG:28992'"
   ]
  },
  {
   "cell_type": "code",
   "execution_count": 6,
   "id": "443bfc8a-7f29-4541-a88d-72d04b796f6f",
   "metadata": {},
   "outputs": [],
   "source": [
    "buffer = 300"
   ]
  },
  {
   "cell_type": "markdown",
   "id": "4dc6e321-f842-4f9d-b1cc-c12866ac6829",
   "metadata": {},
   "source": [
    "# Load data"
   ]
  },
  {
   "cell_type": "code",
   "execution_count": 7,
   "id": "308138e4-0753-4bb6-b082-50246005d799",
   "metadata": {},
   "outputs": [],
   "source": [
    "if place_name == 'Milano':\n",
    "    xmin = 1022678.517\n",
    "    ymin = 5695916.600\n",
    "    xmax = 1027342.347\n",
    "    ymax = 5698126.489\n",
    "    \n",
    "elif place_name == 'Ljubljana':\n",
    "    xmin =  1612551.082\n",
    "    ymin =  5787620.135\n",
    "    xmax =  1617214.912\n",
    "    ymax =  5789830.024\n",
    "    \n",
    "elif place_name == 'Utrecht':\n",
    "    xmin =  564607.450\n",
    "    ymin =  6815369.636\n",
    "    xmax =  569271.280\n",
    "    ymax =  6817579.525"
   ]
  },
  {
   "cell_type": "code",
   "execution_count": 8,
   "id": "632ded7e-0120-4bf2-a806-46b0296d0456",
   "metadata": {},
   "outputs": [],
   "source": [
    "pointList = [Point(xmin, ymin), Point(xmax, ymin), Point(xmax, ymax), Point(xmin, ymax), Point(xmin, ymin)]\n",
    "bbox_shape = Polygon([[p.x, p.y] for p in pointList])\n",
    "\n",
    "place = gpd.GeoDataFrame(index=[0], crs='epsg:3857', geometry=[bbox_shape])\n",
    "place = place.to_crs(local_crs)"
   ]
  },
  {
   "cell_type": "code",
   "execution_count": 12,
   "id": "8f5155e7-8cb5-4e3b-bd34-16f85d65028d",
   "metadata": {},
   "outputs": [],
   "source": [
    "extent = place.buffer(buffer, join_style=2)\n",
    "if len(extent) > 1:\n",
    "    extent_shape = MultiPolygon([shape(part) for part in extent.to_crs('EPSG:4326')])     \n",
    "else:\n",
    "    extent_shape = extent.to_crs('EPSG:4326')[0]"
   ]
  },
  {
   "cell_type": "markdown",
   "id": "b7e95c01-3761-4669-b417-17ce70c922f0",
   "metadata": {},
   "source": [
    "### Play spaces"
   ]
  },
  {
   "cell_type": "code",
   "execution_count": 13,
   "id": "cf1dc2ab-0e1f-4292-83ca-da14d3fa3375",
   "metadata": {},
   "outputs": [],
   "source": [
    "# playgrounds sometimes lie on school premises\n",
    "# schoolyards are a rarely used tag, in used, but not formally approved \n",
    "# (e.g., in our case study cities, appearing only once, in Ljubljana, but with access=private)\n",
    "# in practice, school premises are tagged as amenity=school, but this tag includes many other types of schools as well\n",
    "# with the school itself being building=school\n",
    "# often, when there are play facilities, these are tagged as playground\n",
    "# we try to find some playgrounds on school premises, and extend it with places tagged as playgrounds, but these are few generally, or private\n",
    "school_filter = (f'[\"amenity\"~\"school\"]')\n",
    "schools = gpd.clip(get_osm_data(school_filter, extent, 'convexhull'), extent)\n",
    "schools.geometry = schools.buffer(10)\n",
    "# we are interested in what playgrounds lie on or directly adjacent to schools (i.e. within 10m)"
   ]
  },
  {
   "cell_type": "markdown",
   "id": "47a1a640-7ee1-452c-89e6-d9e8261edf4f",
   "metadata": {
    "tags": []
   },
   "source": [
    "#### playgrounds"
   ]
  },
  {
   "cell_type": "code",
   "execution_count": 14,
   "id": "fabda53e-ec19-470e-b77c-ead20905dbcf",
   "metadata": {},
   "outputs": [
    {
     "name": "stdout",
     "output_type": "stream",
     "text": [
      "Response <Response [504]>\n",
      "Waiting 30sec, and trying again max 4 more times\n"
     ]
    }
   ],
   "source": [
    "playgrounds_filter = (f'[\"leisure\"~\"playground\"][\"access\"!=\"private\"]')\n",
    "playgrounds = get_osm_data(playgrounds_filter, extent, 'convexhull')\n",
    "if len(playgrounds):\n",
    "    playgrounds = gpd.clip(playgrounds, extent)"
   ]
  },
  {
   "cell_type": "code",
   "execution_count": 15,
   "id": "4976131f-84ee-4655-b5f6-97bf5c27dc18",
   "metadata": {},
   "outputs": [],
   "source": [
    "# drop those on school premises\n",
    "playgrounds = playgrounds.sjoin(schools[['geometry']], how='left')\n",
    "playgrounds = playgrounds[playgrounds['index_right'].isna()]\n",
    "playgrounds = playgrounds.drop(columns=['index_right'])"
   ]
  },
  {
   "cell_type": "markdown",
   "id": "43a39be3-69a9-4286-af1c-43fac27f739b",
   "metadata": {},
   "source": [
    "#### schoolyards"
   ]
  },
  {
   "cell_type": "code",
   "execution_count": 16,
   "id": "729a8ed7-501c-4e7e-8bf1-187b7b8bf0b5",
   "metadata": {},
   "outputs": [],
   "source": [
    "schoolyards_filter = (f'[\"leisure\"~\"schoolyard\"][\"access\"!=\"private\"]')\n",
    "schoolyards = get_osm_data(schoolyards_filter, extent, 'convexhull')\n",
    "if len(schoolyards):\n",
    "    schoolyards = gpd.clip(schoolyards, extent)"
   ]
  },
  {
   "cell_type": "code",
   "execution_count": 17,
   "id": "d2fe9cbb-9d20-44fe-ad7b-3d17c03edffd",
   "metadata": {},
   "outputs": [],
   "source": [
    "# playgrounds or pitches on school premises\n",
    "potential_schoolyards_filter = (f'[\"leisure\"~\"playground|pitch\"][\"access\"!=\"private\"]')\n",
    "potential_schoolyards = get_osm_data(potential_schoolyards_filter, extent, 'convexhull')\n",
    "if len(potential_schoolyards):\n",
    "    potential_schoolyards = gpd.clip(potential_schoolyards, extent)\n",
    "if len(potential_schoolyards):\n",
    "    potential_schoolyards = gpd.clip(potential_schoolyards, schools)"
   ]
  },
  {
   "cell_type": "code",
   "execution_count": 18,
   "id": "c0af67e5-8633-4079-92c6-46b1b52e7c04",
   "metadata": {},
   "outputs": [],
   "source": [
    "schoolyards = schoolyards.append(potential_schoolyards)"
   ]
  },
  {
   "cell_type": "code",
   "execution_count": 19,
   "id": "a33d9e57-74ad-4516-a9d0-95035fd2935a",
   "metadata": {},
   "outputs": [
    {
     "data": {
      "text/plain": [
       "<AxesSubplot:>"
      ]
     },
     "execution_count": 19,
     "metadata": {},
     "output_type": "execute_result"
    },
    {
     "data": {
      "image/png": "[encoded data removed]",
      "text/plain": [
       "<Figure size 432x288 with 1 Axes>"
      ]
     },
     "metadata": {},
     "output_type": "display_data"
    },
    {
     "data": {
      "image/png": "[encoded data removed]",
      "text/plain": [
       "<Figure size 432x288 with 1 Axes>"
      ]
     },
     "metadata": {},
     "output_type": "display_data"
    }
   ],
   "source": [
    "playgrounds.plot()\n",
    "schoolyards.plot()"
   ]
  },
  {
   "cell_type": "markdown",
   "id": "302f84f8-e398-4caa-8c06-acb7cbc03d5a",
   "metadata": {},
   "source": [
    "#### natural, type-based"
   ]
  },
  {
   "cell_type": "code",
   "execution_count": 20,
   "id": "451e776f-535d-4039-9dcb-837bb89e5fee",
   "metadata": {},
   "outputs": [],
   "source": [
    "def greenspace_filter(gdf, local_crs,\n",
    "                      threshold=0, place=None, min_area=None, max_area=None, G=None):\n",
    "    \"\"\"\n",
    "    gdf = geoseries of greenery polygons (e.g. greenery.geometry)\n",
    "    return = a union of filtered polygons\n",
    "    [optional] threshold to merge spaces in proximity (in meters)\n",
    "    [optional] place geoseries of total area geometries (e.g. place_gdf.geometry)\n",
    "    [optional] minimum area for greenspace filter, default value set\n",
    "    [optional] graph which greenspace should intersect nodes and edges of\n",
    "    \"\"\"\n",
    "    \n",
    "    filtered = gdf.copy()\n",
    "    \n",
    "    # only polygons, no points or lines\n",
    "    filtered = filtered[(filtered.geom_type == 'Polygon')|(filtered.geom_type == 'MultiPolygon')]\n",
    "    \n",
    "    #union of adjacent and overlapping polygons\n",
    "    filtered['geometry'] = filtered.buffer(threshold)\n",
    "    if len(filtered) == 1:\n",
    "        filtered = gpd.GeoDataFrame(geometry=[filtered.unary_union], crs=local_crs)\n",
    "    else:\n",
    "        filtered = gpd.GeoDataFrame(filtered.unary_union).rename(columns={0:'geometry'}).set_geometry('geometry').set_crs(local_crs)\n",
    "    filtered['geometry'] = filtered.buffer(-threshold)\n",
    "\n",
    "    # filter on intersect with place\n",
    "    if place is not None:\n",
    "        filtered = gpd.sjoin(filtered, gpd.GeoDataFrame(place.geometry), how=\"left\", predicate='within')\n",
    "        filtered = filtered[filtered.index_right.notnull()].drop(columns=['index_right'])\n",
    "        \n",
    "    # filter on minimum area\n",
    "    if min_area is not None:\n",
    "        filtered = filtered[filtered.geometry.area>=min_area]\n",
    "        \n",
    "    # filter on maximum area\n",
    "    if max_area is not None:\n",
    "        filtered = filtered[filtered.geometry.area<=max_area]\n",
    "    \n",
    "    # filter on intersection with network\n",
    "    if G:\n",
    "        edges = ox.utils_graph.graph_to_gdfs(G, nodes=False, edges=True)\n",
    "        filtered = gpd.sjoin(filtered, gpd.GeoDataFrame(edges.reset_index(drop=True).geometry), how=\"left\", predicate='intersects')\n",
    "        filtered = filtered[filtered.index_right.notnull()].drop(columns=['index_right'])\n",
    "        \n",
    "        nodes = ox.utils_graph.graph_to_gdfs(G, nodes=True, edges=False)\n",
    "        filtered = gpd.sjoin(filtered, gpd.GeoDataFrame(nodes.reset_index(drop=True).geometry), how=\"left\", predicate='intersects')\n",
    "        filtered = filtered[filtered.index_right.notnull()].drop(columns=['index_right'])\n",
    "\n",
    "    filtered.drop_duplicates(inplace=True)\n",
    "    return filtered"
   ]
  },
  {
   "cell_type": "code",
   "execution_count": 21,
   "id": "f0ea1610-7f74-4c87-b7bc-532cb9c8c450",
   "metadata": {},
   "outputs": [],
   "source": [
    "# parks\n",
    "parks_filter = '[\"leisure\"~\"^(park)\"]'\n",
    "parks = get_osm_data(parks_filter, extent, 'convexhull')\n",
    "tipping_point = 50000   \n",
    "# anything between 25000 and 50000 works for Utrecht West\n",
    "# for Zuid-West: from 30000 onwards? there is one around 35000 that I'm unsure about though\n",
    "# for Zuid: ? above seems fine, intuitively, but not discussed during session\n",
    "# setting on 50000 for now, clear barriers, keeping smaller up for discussion in Milan\n",
    "parks_small = gpd.clip(greenspace_filter(parks, local_crs, max_area=tipping_point), extent)"
   ]
  },
  {
   "cell_type": "markdown",
   "id": "d1d3781e-49ac-4525-b661-48d7e65af319",
   "metadata": {},
   "source": [
    "#### plots"
   ]
  },
  {
   "cell_type": "code",
   "execution_count": 22,
   "id": "94a9afb8-ca1e-42ca-84ca-eaaefbc57682",
   "metadata": {},
   "outputs": [],
   "source": [
    "playgrounds['geometry_buffer'] = playgrounds.geometry.buffer(10)\n",
    "schoolyards['geometry_buffer'] = schoolyards.geometry.buffer(10)\n",
    "parks_small['geometry_buffer'] = parks_small.geometry.buffer(10)"
   ]
  },
  {
   "cell_type": "code",
   "execution_count": null,
   "id": "e840fc70-1b3c-4edc-b6f8-70056b441746",
   "metadata": {},
   "outputs": [
    {
     "data": {
      "image/png": "[encoded data removed]",
      "text/plain": [
       "<Figure size 1440x720 with 1 Axes>"
      ]
     },
     "metadata": {},
     "output_type": "display_data"
    }
   ],
   "source": [
    "fig, axs = plt.subplots(nrows=1, ncols=1, figsize=(20,10))\n",
    "fig.suptitle('Attractions', fontsize=16)\n",
    "\n",
    "\n",
    "barrier_width = 3\n",
    "\n",
    "# all combined\n",
    "playgrounds.set_geometry('geometry_buffer').plot(ax=axs, color='#fecc5c', linewidth=barrier_width, zorder=1)\n",
    "schoolyards.set_geometry('geometry_buffer').plot(ax=axs, color='#e78ac3', linewidth=barrier_width, zorder=1)\n",
    "parks_small.set_geometry('geometry_buffer').plot(ax=axs, color='#bae4b3', linewidth=barrier_width, zorder=1)\n",
    "axs.set_title('All attractions')\n",
    "\n",
    "\n",
    "place.plot(ax=axs, facecolor='none', edgecolor='yellow', linestyle='-', linewidth=1, zorder=1)\n",
    "\n",
    "bbox = place.total_bounds\n",
    "margin = 600\n",
    "xlim = ([bbox[0]-margin, bbox[2]+margin])\n",
    "ylim = ([bbox[1]-margin, bbox[3]+margin])\n",
    "axs.set_xlim(xlim)\n",
    "axs.set_ylim(ylim)\n",
    "axs.axis('off')\n",
    "\n",
    "    \n",
    "plt.show()"
   ]
  },
  {
   "cell_type": "markdown",
   "id": "316521c4-cece-4976-81e1-49079b47a8ee",
   "metadata": {
    "tags": []
   },
   "source": [
    "#  Store output data"
   ]
  },
  {
   "cell_type": "code",
   "execution_count": 24,
   "id": "c85959d0",
   "metadata": {},
   "outputs": [],
   "source": [
    "place_name_out = (place_name).split(',')[0].replace(' ', '')\n",
    "today = datetime.date.today().strftime(\"%d%b%Y\")\n",
    "output_sub_folder = os.path.join(output_folder, '{}_{}'.format(place_name_out, today))"
   ]
  },
  {
   "cell_type": "code",
   "execution_count": 26,
   "id": "9e564b8a",
   "metadata": {},
   "outputs": [],
   "source": [
    "if not os.path.exists(output_sub_folder):\n",
    "    os.mkdir(output_sub_folder)"
   ]
  },
  {
   "cell_type": "code",
   "execution_count": 27,
   "id": "056e16fe",
   "metadata": {},
   "outputs": [],
   "source": [
    "output_file = os.path.join(output_sub_folder, 'playground_attraction.geojson')\n",
    "playgrounds_out = playgrounds.apply(lambda c: c.astype(str) if c.name != \"geometry\" else c, axis=0)\n",
    "playgrounds_out.to_file(output_file, driver='GeoJSON')\n",
    "\n",
    "output_file = os.path.join(output_sub_folder, 'schoolyard_attraction.geojson')\n",
    "schoolyards_out = schoolyards.apply(lambda c: c.astype(str) if c.name != \"geometry\" else c, axis=0)\n",
    "schoolyards_out.to_file(output_file, driver='GeoJSON')\n",
    "\n",
    "output_file = os.path.join(output_sub_folder, 'small_park_attraction.geojson')\n",
    "parks_small_out = parks_small.apply(lambda c: c.astype(str) if c.name != \"geometry\" else c, axis=0)\n",
    "parks_small_out.to_file(output_file, driver='GeoJSON')"
   ]
  }
 ],
 "metadata": {
  "kernelspec": {
   "display_name": "Python 3 (ipykernel)",
   "language": "python",
   "name": "python3"
  },
  "language_info": {
   "codemirror_mode": {
    "name": "ipython",
    "version": 3
   },
   "file_extension": ".py",
   "mimetype": "text/x-python",
   "name": "python",
   "nbconvert_exporter": "python",
   "pygments_lexer": "ipython3",
   "version": "3.9.12"
  }
 },
 "nbformat": 4,
 "nbformat_minor": 5
}
